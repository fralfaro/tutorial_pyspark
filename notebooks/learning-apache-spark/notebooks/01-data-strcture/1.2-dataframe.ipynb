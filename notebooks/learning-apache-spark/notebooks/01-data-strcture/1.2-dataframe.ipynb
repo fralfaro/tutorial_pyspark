{
  "cells": [
    {
      "cell_type": "markdown",
      "metadata": {
        "id": "view-in-github",
        "colab_type": "text"
      },
      "source": [
        "<a href=\"https://colab.research.google.com/github/fralfaro/tutorial_pyspark/blob/main/notebooks/learning-apache-spark/notebooks/01-data-strcture/1.2-dataframe.ipynb\" target=\"_parent\"><img src=\"https://colab.research.google.com/assets/colab-badge.svg\" alt=\"Open In Colab\"/></a>"
      ]
    },
    {
      "cell_type": "markdown",
      "metadata": {
        "id": "NGS1_Q3YZZbc"
      },
      "source": [
        "# DataFrame object\n",
        "---"
      ]
    },
    {
      "cell_type": "code",
      "source": [
        "!pip install pyspark"
      ],
      "metadata": {
        "colab": {
          "base_uri": "https://localhost:8080/"
        },
        "id": "KmjWo2k6ZcD1",
        "outputId": "78d56324-9293-417d-814b-24a74138785a"
      },
      "execution_count": 1,
      "outputs": [
        {
          "output_type": "stream",
          "name": "stdout",
          "text": [
            "Collecting pyspark\n",
            "  Downloading pyspark-3.2.1.tar.gz (281.4 MB)\n",
            "\u001b[K     |████████████████████████████████| 281.4 MB 30 kB/s \n",
            "\u001b[?25hCollecting py4j==0.10.9.3\n",
            "  Downloading py4j-0.10.9.3-py2.py3-none-any.whl (198 kB)\n",
            "\u001b[K     |████████████████████████████████| 198 kB 50.6 MB/s \n",
            "\u001b[?25hBuilding wheels for collected packages: pyspark\n",
            "  Building wheel for pyspark (setup.py) ... \u001b[?25l\u001b[?25hdone\n",
            "  Created wheel for pyspark: filename=pyspark-3.2.1-py2.py3-none-any.whl size=281853642 sha256=ba743ea252eb7c7ff7d572bcd2db7614e25afc08999fea503fab6011de6096e0\n",
            "  Stored in directory: /root/.cache/pip/wheels/9f/f5/07/7cd8017084dce4e93e84e92efd1e1d5334db05f2e83bcef74f\n",
            "Successfully built pyspark\n",
            "Installing collected packages: py4j, pyspark\n",
            "Successfully installed py4j-0.10.9.3 pyspark-3.2.1\n"
          ]
        }
      ]
    },
    {
      "cell_type": "code",
      "source": [
        "# files\n",
        "!wget https://raw.githubusercontent.com/fralfaro/tutorial_pyspark/main/notebooks/learning-apache-spark/data/mtcars.csv"
      ],
      "metadata": {
        "colab": {
          "base_uri": "https://localhost:8080/"
        },
        "id": "ggH4otqxZeyI",
        "outputId": "654fc231-fb79-4a52-bb4e-203a70512a69"
      },
      "execution_count": 2,
      "outputs": [
        {
          "output_type": "stream",
          "name": "stdout",
          "text": [
            "--2022-04-19 19:57:37--  https://raw.githubusercontent.com/fralfaro/tutorial_pyspark/main/notebooks/learning-apache-spark/data/mtcars.csv\n",
            "Resolving raw.githubusercontent.com (raw.githubusercontent.com)... 185.199.108.133, 185.199.109.133, 185.199.110.133, ...\n",
            "Connecting to raw.githubusercontent.com (raw.githubusercontent.com)|185.199.108.133|:443... connected.\n",
            "HTTP request sent, awaiting response... 200 OK\n",
            "Length: 1694 (1.7K) [text/plain]\n",
            "Saving to: ‘mtcars.csv’\n",
            "\n",
            "mtcars.csv          100%[===================>]   1.65K  --.-KB/s    in 0s      \n",
            "\n",
            "2022-04-19 19:57:37 (23.9 MB/s) - ‘mtcars.csv’ saved [1694/1694]\n",
            "\n"
          ]
        }
      ]
    },
    {
      "cell_type": "markdown",
      "metadata": {
        "id": "suVKoKl5ZZbf"
      },
      "source": [
        "## Create SparkContext and SparkSession"
      ]
    },
    {
      "cell_type": "code",
      "execution_count": 3,
      "metadata": {
        "id": "lKBUrnSzZZbg"
      },
      "outputs": [],
      "source": [
        "from pyspark import SparkContext, SparkConf\n",
        "from pyspark.sql import SparkSession\n",
        "sc=SparkContext()\n",
        "spark = SparkSession(sparkContext=sc)"
      ]
    },
    {
      "cell_type": "markdown",
      "metadata": {
        "id": "8zhf1pcVZZbh"
      },
      "source": [
        "## Create a DataFrame object"
      ]
    },
    {
      "cell_type": "markdown",
      "metadata": {
        "id": "inAURSUqZZbh"
      },
      "source": [
        "### Creat DataFrame by reading a file"
      ]
    },
    {
      "cell_type": "code",
      "execution_count": 4,
      "metadata": {
        "colab": {
          "base_uri": "https://localhost:8080/"
        },
        "id": "93yK6PkKZZbi",
        "outputId": "45e76b89-a945-408b-9f74-6ec8b3ae0bc9"
      },
      "outputs": [
        {
          "output_type": "stream",
          "name": "stdout",
          "text": [
            "+-----------------+----+---+-----+---+----+-----+-----+---+---+----+----+\n",
            "|_c0              |mpg |cyl|disp |hp |drat|wt   |qsec |vs |am |gear|carb|\n",
            "+-----------------+----+---+-----+---+----+-----+-----+---+---+----+----+\n",
            "|Mazda RX4        |21.0|6  |160.0|110|3.9 |2.62 |16.46|0  |1  |4   |4   |\n",
            "|Mazda RX4 Wag    |21.0|6  |160.0|110|3.9 |2.875|17.02|0  |1  |4   |4   |\n",
            "|Datsun 710       |22.8|4  |108.0|93 |3.85|2.32 |18.61|1  |1  |4   |1   |\n",
            "|Hornet 4 Drive   |21.4|6  |258.0|110|3.08|3.215|19.44|1  |0  |3   |1   |\n",
            "|Hornet Sportabout|18.7|8  |360.0|175|3.15|3.44 |17.02|0  |0  |3   |2   |\n",
            "+-----------------+----+---+-----+---+----+-----+-----+---+---+----+----+\n",
            "only showing top 5 rows\n",
            "\n"
          ]
        }
      ],
      "source": [
        "mtcars = spark.read.csv(path='mtcars.csv',\n",
        "                        sep=',',\n",
        "                        encoding='UTF-8',\n",
        "                        comment=None,\n",
        "                        header=True, \n",
        "                        inferSchema=True)\n",
        "mtcars.show(n=5, truncate=False)"
      ]
    },
    {
      "cell_type": "markdown",
      "metadata": {
        "id": "tEzXxovDZZbj"
      },
      "source": [
        "### Create DataFrame with `createDataFrame` function"
      ]
    },
    {
      "cell_type": "markdown",
      "metadata": {
        "id": "aqJ38S1-ZZbk"
      },
      "source": [
        "#### From an RDD\n",
        "\n",
        "Elements in RDD has to be an Row object"
      ]
    },
    {
      "cell_type": "code",
      "execution_count": 5,
      "metadata": {
        "colab": {
          "base_uri": "https://localhost:8080/"
        },
        "id": "Phf8XYlpZZbk",
        "outputId": "83274033-b99f-4dc3-b57a-119e739f9e97"
      },
      "outputs": [
        {
          "output_type": "execute_result",
          "data": {
            "text/plain": [
              "[Row(x=[1, 2, 3], y=['a', 'b', 'c']), Row(x=[4, 5, 6], y=['e', 'f', 'g'])]"
            ]
          },
          "metadata": {},
          "execution_count": 5
        }
      ],
      "source": [
        "from pyspark.sql import Row\n",
        "rdd = sc.parallelize([\n",
        "    Row(x=[1,2,3], y=['a','b','c']),\n",
        "    Row(x=[4,5,6], y=['e','f','g'])\n",
        "])\n",
        "rdd.collect()"
      ]
    },
    {
      "cell_type": "code",
      "execution_count": 6,
      "metadata": {
        "colab": {
          "base_uri": "https://localhost:8080/"
        },
        "id": "ISFrJsleZZbl",
        "outputId": "da04ec2c-cf10-4851-8c4d-76da8d70175d"
      },
      "outputs": [
        {
          "output_type": "stream",
          "name": "stdout",
          "text": [
            "+---------+---------+\n",
            "|        x|        y|\n",
            "+---------+---------+\n",
            "|[1, 2, 3]|[a, b, c]|\n",
            "|[4, 5, 6]|[e, f, g]|\n",
            "+---------+---------+\n",
            "\n"
          ]
        }
      ],
      "source": [
        "df = spark.createDataFrame(rdd)\n",
        "df.show()"
      ]
    },
    {
      "cell_type": "markdown",
      "metadata": {
        "id": "GmkHZQsrZZbl"
      },
      "source": [
        "#### From pandas DataFrame"
      ]
    },
    {
      "cell_type": "code",
      "execution_count": 7,
      "metadata": {
        "colab": {
          "base_uri": "https://localhost:8080/",
          "height": 112
        },
        "id": "k7lY0YdXZZbl",
        "outputId": "8f7047d8-e22b-4a11-b02f-104446d6d7d0"
      },
      "outputs": [
        {
          "output_type": "execute_result",
          "data": {
            "text/plain": [
              "           x          y\n",
              "0  [1, 2, 3]  [a, b, c]\n",
              "1  [4, 5, 6]  [e, f, g]"
            ],
            "text/html": [
              "\n",
              "  <div id=\"df-25538d6e-3289-4e4e-be27-2552b146147a\">\n",
              "    <div class=\"colab-df-container\">\n",
              "      <div>\n",
              "<style scoped>\n",
              "    .dataframe tbody tr th:only-of-type {\n",
              "        vertical-align: middle;\n",
              "    }\n",
              "\n",
              "    .dataframe tbody tr th {\n",
              "        vertical-align: top;\n",
              "    }\n",
              "\n",
              "    .dataframe thead th {\n",
              "        text-align: right;\n",
              "    }\n",
              "</style>\n",
              "<table border=\"1\" class=\"dataframe\">\n",
              "  <thead>\n",
              "    <tr style=\"text-align: right;\">\n",
              "      <th></th>\n",
              "      <th>x</th>\n",
              "      <th>y</th>\n",
              "    </tr>\n",
              "  </thead>\n",
              "  <tbody>\n",
              "    <tr>\n",
              "      <th>0</th>\n",
              "      <td>[1, 2, 3]</td>\n",
              "      <td>[a, b, c]</td>\n",
              "    </tr>\n",
              "    <tr>\n",
              "      <th>1</th>\n",
              "      <td>[4, 5, 6]</td>\n",
              "      <td>[e, f, g]</td>\n",
              "    </tr>\n",
              "  </tbody>\n",
              "</table>\n",
              "</div>\n",
              "      <button class=\"colab-df-convert\" onclick=\"convertToInteractive('df-25538d6e-3289-4e4e-be27-2552b146147a')\"\n",
              "              title=\"Convert this dataframe to an interactive table.\"\n",
              "              style=\"display:none;\">\n",
              "        \n",
              "  <svg xmlns=\"http://www.w3.org/2000/svg\" height=\"24px\"viewBox=\"0 0 24 24\"\n",
              "       width=\"24px\">\n",
              "    <path d=\"M0 0h24v24H0V0z\" fill=\"none\"/>\n",
              "    <path d=\"M18.56 5.44l.94 2.06.94-2.06 2.06-.94-2.06-.94-.94-2.06-.94 2.06-2.06.94zm-11 1L8.5 8.5l.94-2.06 2.06-.94-2.06-.94L8.5 2.5l-.94 2.06-2.06.94zm10 10l.94 2.06.94-2.06 2.06-.94-2.06-.94-.94-2.06-.94 2.06-2.06.94z\"/><path d=\"M17.41 7.96l-1.37-1.37c-.4-.4-.92-.59-1.43-.59-.52 0-1.04.2-1.43.59L10.3 9.45l-7.72 7.72c-.78.78-.78 2.05 0 2.83L4 21.41c.39.39.9.59 1.41.59.51 0 1.02-.2 1.41-.59l7.78-7.78 2.81-2.81c.8-.78.8-2.07 0-2.86zM5.41 20L4 18.59l7.72-7.72 1.47 1.35L5.41 20z\"/>\n",
              "  </svg>\n",
              "      </button>\n",
              "      \n",
              "  <style>\n",
              "    .colab-df-container {\n",
              "      display:flex;\n",
              "      flex-wrap:wrap;\n",
              "      gap: 12px;\n",
              "    }\n",
              "\n",
              "    .colab-df-convert {\n",
              "      background-color: #E8F0FE;\n",
              "      border: none;\n",
              "      border-radius: 50%;\n",
              "      cursor: pointer;\n",
              "      display: none;\n",
              "      fill: #1967D2;\n",
              "      height: 32px;\n",
              "      padding: 0 0 0 0;\n",
              "      width: 32px;\n",
              "    }\n",
              "\n",
              "    .colab-df-convert:hover {\n",
              "      background-color: #E2EBFA;\n",
              "      box-shadow: 0px 1px 2px rgba(60, 64, 67, 0.3), 0px 1px 3px 1px rgba(60, 64, 67, 0.15);\n",
              "      fill: #174EA6;\n",
              "    }\n",
              "\n",
              "    [theme=dark] .colab-df-convert {\n",
              "      background-color: #3B4455;\n",
              "      fill: #D2E3FC;\n",
              "    }\n",
              "\n",
              "    [theme=dark] .colab-df-convert:hover {\n",
              "      background-color: #434B5C;\n",
              "      box-shadow: 0px 1px 3px 1px rgba(0, 0, 0, 0.15);\n",
              "      filter: drop-shadow(0px 1px 2px rgba(0, 0, 0, 0.3));\n",
              "      fill: #FFFFFF;\n",
              "    }\n",
              "  </style>\n",
              "\n",
              "      <script>\n",
              "        const buttonEl =\n",
              "          document.querySelector('#df-25538d6e-3289-4e4e-be27-2552b146147a button.colab-df-convert');\n",
              "        buttonEl.style.display =\n",
              "          google.colab.kernel.accessAllowed ? 'block' : 'none';\n",
              "\n",
              "        async function convertToInteractive(key) {\n",
              "          const element = document.querySelector('#df-25538d6e-3289-4e4e-be27-2552b146147a');\n",
              "          const dataTable =\n",
              "            await google.colab.kernel.invokeFunction('convertToInteractive',\n",
              "                                                     [key], {});\n",
              "          if (!dataTable) return;\n",
              "\n",
              "          const docLinkHtml = 'Like what you see? Visit the ' +\n",
              "            '<a target=\"_blank\" href=https://colab.research.google.com/notebooks/data_table.ipynb>data table notebook</a>'\n",
              "            + ' to learn more about interactive tables.';\n",
              "          element.innerHTML = '';\n",
              "          dataTable['output_type'] = 'display_data';\n",
              "          await google.colab.output.renderOutput(dataTable, element);\n",
              "          const docLink = document.createElement('div');\n",
              "          docLink.innerHTML = docLinkHtml;\n",
              "          element.appendChild(docLink);\n",
              "        }\n",
              "      </script>\n",
              "    </div>\n",
              "  </div>\n",
              "  "
            ]
          },
          "metadata": {},
          "execution_count": 7
        }
      ],
      "source": [
        "import pandas as pd\n",
        "pdf = pd.DataFrame({\n",
        "    'x': [[1,2,3], [4,5,6]],\n",
        "    'y': [['a','b','c'], ['e','f','g']]\n",
        "})\n",
        "pdf"
      ]
    },
    {
      "cell_type": "code",
      "execution_count": 8,
      "metadata": {
        "colab": {
          "base_uri": "https://localhost:8080/"
        },
        "id": "KOstCo5ZZZbm",
        "outputId": "17d68154-047f-4ebe-fdf0-38f61c0c4a53"
      },
      "outputs": [
        {
          "output_type": "stream",
          "name": "stdout",
          "text": [
            "+---------+---------+\n",
            "|        x|        y|\n",
            "+---------+---------+\n",
            "|[1, 2, 3]|[a, b, c]|\n",
            "|[4, 5, 6]|[e, f, g]|\n",
            "+---------+---------+\n",
            "\n"
          ]
        }
      ],
      "source": [
        "df = spark.createDataFrame(pdf)\n",
        "df.show()"
      ]
    },
    {
      "cell_type": "markdown",
      "metadata": {
        "id": "DBuV0ondZZbm"
      },
      "source": [
        "#### From a list\n",
        "\n",
        "Each element in the list becomes an Row in the DataFrame. "
      ]
    },
    {
      "cell_type": "code",
      "execution_count": 9,
      "metadata": {
        "colab": {
          "base_uri": "https://localhost:8080/"
        },
        "id": "X0cJjcKpZZbm",
        "outputId": "28052dfd-884f-4d82-c1c7-8ce8c98b4fa7"
      },
      "outputs": [
        {
          "output_type": "stream",
          "name": "stdout",
          "text": [
            "+------+------+\n",
            "|letter|number|\n",
            "+------+------+\n",
            "|     a|     1|\n",
            "|     b|     2|\n",
            "+------+------+\n",
            "\n"
          ]
        }
      ],
      "source": [
        "my_list = [['a', 1], ['b', 2]]\n",
        "df = spark.createDataFrame(my_list, ['letter', 'number'])\n",
        "df.show()"
      ]
    },
    {
      "cell_type": "code",
      "execution_count": 10,
      "metadata": {
        "colab": {
          "base_uri": "https://localhost:8080/"
        },
        "id": "7-Rw4fcOZZbn",
        "outputId": "60745f4b-f89a-44bf-dc69-79bb5842faf5"
      },
      "outputs": [
        {
          "output_type": "execute_result",
          "data": {
            "text/plain": [
              "[('letter', 'string'), ('number', 'bigint')]"
            ]
          },
          "metadata": {},
          "execution_count": 10
        }
      ],
      "source": [
        "df.dtypes"
      ]
    },
    {
      "cell_type": "code",
      "execution_count": 11,
      "metadata": {
        "colab": {
          "base_uri": "https://localhost:8080/"
        },
        "id": "ynb7AHQqZZbn",
        "outputId": "d33ee226-12ef-4861-e518-3c8aee4f0c10"
      },
      "outputs": [
        {
          "output_type": "stream",
          "name": "stdout",
          "text": [
            "+---------+---+\n",
            "|my_column| _2|\n",
            "+---------+---+\n",
            "|        a|  1|\n",
            "|        b|  2|\n",
            "+---------+---+\n",
            "\n"
          ]
        }
      ],
      "source": [
        "my_list = [['a', 1], ['b', 2]]\n",
        "df = spark.createDataFrame(my_list, ['my_column'])\n",
        "df.show()"
      ]
    },
    {
      "cell_type": "code",
      "execution_count": 12,
      "metadata": {
        "colab": {
          "base_uri": "https://localhost:8080/"
        },
        "id": "38wvE09wZZbn",
        "outputId": "01c42531-b858-4f45-bac9-8f658eda9e6e"
      },
      "outputs": [
        {
          "output_type": "execute_result",
          "data": {
            "text/plain": [
              "[('my_column', 'string'), ('_2', 'bigint')]"
            ]
          },
          "metadata": {},
          "execution_count": 12
        }
      ],
      "source": [
        "df.dtypes"
      ]
    },
    {
      "cell_type": "markdown",
      "metadata": {
        "id": "QLh3nFmOZZbo"
      },
      "source": [
        "The following code generates a DataFrame consisting of two columns, each column is a vector column.\n",
        "\n",
        "Why vector columns are generated in this case?\n",
        "In this case, the list **my_list** has only one element, a tuple. Therefore, the DataFrame has only one row. This tuple has two elements. Therefore, it generates a two-columns DataFrame. Each element in the tuple is a list, so the resulting columns are vector columns."
      ]
    },
    {
      "cell_type": "code",
      "execution_count": 13,
      "metadata": {
        "colab": {
          "base_uri": "https://localhost:8080/"
        },
        "id": "96PsJKl0ZZbo",
        "outputId": "f70d57ee-ac6a-444b-8938-41ec7b5008d0"
      },
      "outputs": [
        {
          "output_type": "stream",
          "name": "stdout",
          "text": [
            "+------+------+\n",
            "|     x|     y|\n",
            "+------+------+\n",
            "|[a, 1]|[b, 2]|\n",
            "+------+------+\n",
            "\n"
          ]
        }
      ],
      "source": [
        "my_list = [(['a', 1], ['b', 2])]\n",
        "df = spark.createDataFrame(my_list, ['x', 'y'])\n",
        "df.show()"
      ]
    },
    {
      "cell_type": "markdown",
      "metadata": {
        "id": "NIK5XMJNZZbo"
      },
      "source": [
        "\n",
        "\n",
        "## Column instance\n",
        "\n",
        "Column instances can be created in two ways:\n",
        "\n",
        "1. directly select a column out of a *DataFrame*: `df.colName`\n",
        "2. create from a column expression: `df.colName + 1`\n",
        "\n",
        "Technically, there is only one way to create a column instance. Column expressions start from a column instance.\n",
        "\n",
        "**Remember how to create column instances, because this is usually the starting point if we want to operate DataFrame columns.**\n",
        "\n",
        "The column classes come with some methods that can operate on a column instance. ***However, almost all functions from the `pyspark.sql.functions` module take one or more column instances as argument(s)***. These functions are important for data manipulation tools.\n",
        "\n",
        "## DataFrame column methods\n",
        "\n",
        "### Methods that take column names as arguments:\n",
        "\n",
        "* `corr(col1, col2)`: two column names.\n",
        "* `cov(col1, col2)`: two column names.\n",
        "* `crosstab(col1, col2)`: two column names.\n",
        "* `describe(*cols)`: ***`*cols` refers to only column names (strings).***\n",
        "\n",
        "### Methods that take column names or column expressions or **both** as arguments:\n",
        "\n",
        "* `cube(*cols)`: column names (string) or column expressions or **both**.\n",
        "* `drop(*cols)`: ***a list of column names OR a single column expression.***\n",
        "* `groupBy(*cols)`: column name (string) or column expression or **both**.\n",
        "* `rollup(*cols)`: column name (string) or column expression or **both**.\n",
        "* `select(*cols)`: column name (string) or column expression or **both**.\n",
        "* `sort(*cols, **kwargs)`: column name (string) or column expression or **both**.\n",
        "* `sortWithinPartitions(*cols, **kwargs)`: column name (string) or column expression or **both**.\n",
        "* `orderBy(*cols, **kwargs)`: column name (string) or column expression or **both**.\n",
        "* `sampleBy(col, fractions, sed=None)`: a column name.\n",
        "* `toDF(*cols)`: **a list of column names (string).**\n",
        "* `withColumn(colName, col)`: `colName` refers to column name; `col` refers to a column expression.\n",
        "* `withColumnRenamed(existing, new)`: takes column names as arguments.\n",
        "* `filter(condition)`: ***condition** refers to a column expression that returns `types.BooleanType` of values. "
      ]
    }
  ],
  "metadata": {
    "kernelspec": {
      "display_name": "Python 3",
      "language": "python",
      "name": "python3"
    },
    "language_info": {
      "codemirror_mode": {
        "name": "ipython",
        "version": 3
      },
      "file_extension": ".py",
      "mimetype": "text/x-python",
      "name": "python",
      "nbconvert_exporter": "python",
      "pygments_lexer": "ipython3",
      "version": "3.6.5"
    },
    "colab": {
      "name": "1.2-dataframe.ipynb",
      "provenance": [],
      "include_colab_link": true
    }
  },
  "nbformat": 4,
  "nbformat_minor": 0
}