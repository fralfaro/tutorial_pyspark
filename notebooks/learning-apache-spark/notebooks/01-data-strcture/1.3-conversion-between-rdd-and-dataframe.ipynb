{
  "cells": [
    {
      "cell_type": "markdown",
      "metadata": {
        "id": "view-in-github",
        "colab_type": "text"
      },
      "source": [
        "<a href=\"https://colab.research.google.com/github/fralfaro/tutorial_pyspark/blob/main/notebooks/learning-apache-spark/notebooks/01-data-strcture/1.3-conversion-between-rdd-and-dataframe.ipynb\" target=\"_parent\"><img src=\"https://colab.research.google.com/assets/colab-badge.svg\" alt=\"Open In Colab\"/></a>"
      ]
    },
    {
      "cell_type": "code",
      "execution_count": 1,
      "metadata": {
        "id": "YXqDTaJQcA2Z",
        "outputId": "8474dcde-acdf-4c5e-ae16-33707056f376",
        "colab": {
          "base_uri": "https://localhost:8080/"
        }
      },
      "outputs": [
        {
          "output_type": "stream",
          "name": "stdout",
          "text": [
            "Collecting pyspark\n",
            "  Downloading pyspark-3.2.1.tar.gz (281.4 MB)\n",
            "\u001b[K     |████████████████████████████████| 281.4 MB 35 kB/s \n",
            "\u001b[?25hCollecting py4j==0.10.9.3\n",
            "  Downloading py4j-0.10.9.3-py2.py3-none-any.whl (198 kB)\n",
            "\u001b[K     |████████████████████████████████| 198 kB 52.2 MB/s \n",
            "\u001b[?25hBuilding wheels for collected packages: pyspark\n",
            "  Building wheel for pyspark (setup.py) ... \u001b[?25l\u001b[?25hdone\n",
            "  Created wheel for pyspark: filename=pyspark-3.2.1-py2.py3-none-any.whl size=281853642 sha256=3814503c8eefd125ae157e16d6b05a366dac415e74f36bfb91be7ae5dbe4dc7a\n",
            "  Stored in directory: /root/.cache/pip/wheels/9f/f5/07/7cd8017084dce4e93e84e92efd1e1d5334db05f2e83bcef74f\n",
            "Successfully built pyspark\n",
            "Installing collected packages: py4j, pyspark\n",
            "Successfully installed py4j-0.10.9.3 pyspark-3.2.1\n"
          ]
        }
      ],
      "source": [
        "!pip install pyspark"
      ]
    },
    {
      "cell_type": "code",
      "source": [
        "# files\n",
        "!wget https://raw.githubusercontent.com/fralfaro/tutorial_pyspark/main/notebooks/learning-apache-spark/data/mtcars.csv"
      ],
      "metadata": {
        "id": "0CeadL1IcGSD",
        "outputId": "92fa685a-20e9-4cef-c4bb-5a92559f9fad",
        "colab": {
          "base_uri": "https://localhost:8080/"
        }
      },
      "execution_count": 2,
      "outputs": [
        {
          "output_type": "stream",
          "name": "stdout",
          "text": [
            "--2022-04-19 20:09:06--  https://raw.githubusercontent.com/fralfaro/tutorial_pyspark/main/notebooks/learning-apache-spark/data/mtcars.csv\n",
            "Resolving raw.githubusercontent.com (raw.githubusercontent.com)... 185.199.109.133, 185.199.111.133, 185.199.108.133, ...\n",
            "Connecting to raw.githubusercontent.com (raw.githubusercontent.com)|185.199.109.133|:443... connected.\n",
            "HTTP request sent, awaiting response... 200 OK\n",
            "Length: 1694 (1.7K) [text/plain]\n",
            "Saving to: ‘mtcars.csv’\n",
            "\n",
            "\rmtcars.csv            0%[                    ]       0  --.-KB/s               \rmtcars.csv          100%[===================>]   1.65K  --.-KB/s    in 0s      \n",
            "\n",
            "2022-04-19 20:09:06 (24.3 MB/s) - ‘mtcars.csv’ saved [1694/1694]\n",
            "\n"
          ]
        }
      ]
    },
    {
      "cell_type": "code",
      "source": [
        "from pyspark import SparkContext, SparkConf\n",
        "from pyspark.sql import SparkSession\n",
        "sc=SparkContext()\n",
        "spark = SparkSession(sparkContext=sc)"
      ],
      "metadata": {
        "id": "F8RW5M-PcIC4"
      },
      "execution_count": 3,
      "outputs": []
    },
    {
      "cell_type": "markdown",
      "metadata": {
        "id": "EOBbbst2cA2b"
      },
      "source": [
        "## Example DataFrame"
      ]
    },
    {
      "cell_type": "code",
      "execution_count": 4,
      "metadata": {
        "id": "yZ_YDrvxcA2d"
      },
      "outputs": [],
      "source": [
        "mtcars = spark.read.csv(path='mtcars.csv',\n",
        "                        sep=',',\n",
        "                        encoding='UTF-8',\n",
        "                        comment=None,\n",
        "                        header=True, \n",
        "                        inferSchema=True)"
      ]
    },
    {
      "cell_type": "markdown",
      "metadata": {
        "id": "Q0kGRjGfcA2d"
      },
      "source": [
        "## DataFrame to RDD\n",
        "A **DataFrame** can be easily converted to an **RDD** by calling the `pyspark.sql.DataFrame.rdd()` function. Each element in the returned RDD is an **pyspark.sql.Row** object. An Row is a list of key-value pairs."
      ]
    },
    {
      "cell_type": "code",
      "execution_count": 5,
      "metadata": {
        "id": "y6-Hza32cA2e",
        "outputId": "c6e84bb4-8ca8-4279-ca5f-8e5aa8697cbf",
        "colab": {
          "base_uri": "https://localhost:8080/"
        }
      },
      "outputs": [
        {
          "output_type": "execute_result",
          "data": {
            "text/plain": [
              "[Row(_c0='Mazda RX4', mpg=21.0, cyl=6, disp=160.0, hp=110, drat=3.9, wt=2.62, qsec=16.46, vs=0, am=1, gear=4, carb=4),\n",
              " Row(_c0='Mazda RX4 Wag', mpg=21.0, cyl=6, disp=160.0, hp=110, drat=3.9, wt=2.875, qsec=17.02, vs=0, am=1, gear=4, carb=4)]"
            ]
          },
          "metadata": {},
          "execution_count": 5
        }
      ],
      "source": [
        "mtcars.rdd.take(2)"
      ]
    },
    {
      "cell_type": "markdown",
      "metadata": {
        "id": "P88k-3T9cA2f"
      },
      "source": [
        "With an RDD object, we can apply a set of mapping functions, such as **map**, **mapValues**, **flatMap**, **flatMapValues** and a lot of other methods that come from RDD."
      ]
    },
    {
      "cell_type": "code",
      "execution_count": 6,
      "metadata": {
        "id": "6xzY1aL-cA2f",
        "outputId": "883d6fec-337b-4eba-c2ac-36ff43f4528f",
        "colab": {
          "base_uri": "https://localhost:8080/"
        }
      },
      "outputs": [
        {
          "output_type": "execute_result",
          "data": {
            "text/plain": [
              "[('Mazda RX4', 21.0),\n",
              " ('Mazda RX4 Wag', 21.0),\n",
              " ('Datsun 710', 22.8),\n",
              " ('Hornet 4 Drive', 21.4),\n",
              " ('Hornet Sportabout', 18.7)]"
            ]
          },
          "metadata": {},
          "execution_count": 6
        }
      ],
      "source": [
        "mtcars_map = mtcars.rdd.map(lambda x: (x['_c0'], x['mpg']))\n",
        "mtcars_map.take(5)"
      ]
    },
    {
      "cell_type": "code",
      "execution_count": 7,
      "metadata": {
        "id": "zFjDbhTlcA2g",
        "outputId": "7afc35b7-a2c2-4a5d-ea98-1293c49d7884",
        "colab": {
          "base_uri": "https://localhost:8080/"
        }
      },
      "outputs": [
        {
          "output_type": "execute_result",
          "data": {
            "text/plain": [
              "[('Mazda RX4', [21.0, 210.0]),\n",
              " ('Mazda RX4 Wag', [21.0, 210.0]),\n",
              " ('Datsun 710', [22.8, 228.0]),\n",
              " ('Hornet 4 Drive', [21.4, 214.0]),\n",
              " ('Hornet Sportabout', [18.7, 187.0])]"
            ]
          },
          "metadata": {},
          "execution_count": 7
        }
      ],
      "source": [
        "mtcars_mapvalues = mtcars_map.mapValues(lambda x: [x, x * 10])\n",
        "mtcars_mapvalues.take(5)"
      ]
    },
    {
      "cell_type": "markdown",
      "metadata": {
        "id": "tLJUF_qtcA2h"
      },
      "source": [
        "## RDD to DataFrame\n",
        "\n",
        "To convert an RDD to a DataFrame, we can use the `SparkSession.createDataFrame()` function. Every element in the RDD **has be to an Row object**.\n",
        "\n",
        "Create an RDD"
      ]
    },
    {
      "cell_type": "code",
      "execution_count": 9,
      "metadata": {
        "id": "gzT3_Q6icA2i",
        "outputId": "b4bfaa18-2bdd-4134-8892-5a22b76275b2",
        "colab": {
          "base_uri": "https://localhost:8080/"
        }
      },
      "outputs": [
        {
          "output_type": "execute_result",
          "data": {
            "text/plain": [
              "[',mpg,cyl,disp,hp,drat,wt,qsec,vs,am,gear,carb',\n",
              " 'Mazda RX4,21,6,160,110,3.9,2.62,16.46,0,1,4,4',\n",
              " 'Mazda RX4 Wag,21,6,160,110,3.9,2.875,17.02,0,1,4,4',\n",
              " 'Datsun 710,22.8,4,108,93,3.85,2.32,18.61,1,1,4,1',\n",
              " 'Hornet 4 Drive,21.4,6,258,110,3.08,3.215,19.44,1,0,3,1']"
            ]
          },
          "metadata": {},
          "execution_count": 9
        }
      ],
      "source": [
        "rdd_raw = sc.textFile('mtcars.csv')\n",
        "rdd_raw.take(5)"
      ]
    },
    {
      "cell_type": "markdown",
      "metadata": {
        "id": "CLp1fjZzcA2i"
      },
      "source": [
        "#### Save the first row to a variable"
      ]
    },
    {
      "cell_type": "code",
      "execution_count": 10,
      "metadata": {
        "id": "Lft7rf_qcA2i",
        "outputId": "b2751a06-bf48-4d9b-c0cf-5fd970f0bc9c",
        "colab": {
          "base_uri": "https://localhost:8080/"
        }
      },
      "outputs": [
        {
          "output_type": "execute_result",
          "data": {
            "text/plain": [
              "['model',\n",
              " 'mpg',\n",
              " 'cyl',\n",
              " 'disp',\n",
              " 'hp',\n",
              " 'drat',\n",
              " 'wt',\n",
              " 'qsec',\n",
              " 'vs',\n",
              " 'am',\n",
              " 'gear',\n",
              " 'carb']"
            ]
          },
          "metadata": {},
          "execution_count": 10
        }
      ],
      "source": [
        "header = rdd_raw.map(lambda x: x.split(',')).filter(lambda x: x[1] == 'mpg').collect()[0]\n",
        "header[0] = 'model'\n",
        "header"
      ]
    },
    {
      "cell_type": "markdown",
      "metadata": {
        "id": "dzEUkxcVcA2j"
      },
      "source": [
        "#### Save the rest to a new RDD"
      ]
    },
    {
      "cell_type": "code",
      "execution_count": 11,
      "metadata": {
        "id": "XqimbLAfcA2j",
        "outputId": "6ec9ec1c-d333-4eda-c6b4-5d556d054e02",
        "colab": {
          "base_uri": "https://localhost:8080/"
        }
      },
      "outputs": [
        {
          "output_type": "execute_result",
          "data": {
            "text/plain": [
              "[['Mazda RX4',\n",
              "  '21',\n",
              "  '6',\n",
              "  '160',\n",
              "  '110',\n",
              "  '3.9',\n",
              "  '2.62',\n",
              "  '16.46',\n",
              "  '0',\n",
              "  '1',\n",
              "  '4',\n",
              "  '4'],\n",
              " ['Mazda RX4 Wag',\n",
              "  '21',\n",
              "  '6',\n",
              "  '160',\n",
              "  '110',\n",
              "  '3.9',\n",
              "  '2.875',\n",
              "  '17.02',\n",
              "  '0',\n",
              "  '1',\n",
              "  '4',\n",
              "  '4']]"
            ]
          },
          "metadata": {},
          "execution_count": 11
        }
      ],
      "source": [
        "rdd = rdd_raw.map(lambda x: x.split(',')).filter(lambda x: x[1] != 'mpg')\n",
        "rdd.take(2)"
      ]
    },
    {
      "cell_type": "markdown",
      "metadata": {
        "id": "ylshPyggcA2j"
      },
      "source": [
        "#### Convert RDD elements to RDD Row objects"
      ]
    },
    {
      "cell_type": "markdown",
      "metadata": {
        "id": "hB1J_xIKcA2k"
      },
      "source": [
        "First we define a function which takes a list of column names and a list of values and create a Row of key-value pairs. **Since keys in an Row object are variable names, we can’t simply pass a dictionary to the Row() function**. We can think of a dictionary as an argument list and use the `**` to unpack the argument list.\n",
        "\n",
        "See an example."
      ]
    },
    {
      "cell_type": "code",
      "execution_count": 12,
      "metadata": {
        "id": "2KVBVkHEcA2k",
        "outputId": "6409fc43-cd2e-4969-b2e4-c0c00984b3a2",
        "colab": {
          "base_uri": "https://localhost:8080/"
        }
      },
      "outputs": [
        {
          "output_type": "execute_result",
          "data": {
            "text/plain": [
              "Row(a=1, b=2, c=3)"
            ]
          },
          "metadata": {},
          "execution_count": 12
        }
      ],
      "source": [
        "from pyspark.sql import Row\n",
        "my_dict = dict(zip(['a', 'b', 'c'], range(1, 4)))\n",
        "Row(**my_dict)"
      ]
    },
    {
      "cell_type": "markdown",
      "metadata": {
        "id": "yv4hT0CVcA2k"
      },
      "source": [
        "#### Let’s define the function."
      ]
    },
    {
      "cell_type": "code",
      "execution_count": 13,
      "metadata": {
        "id": "D7_pCWIxcA2l"
      },
      "outputs": [],
      "source": [
        "def list_to_row(keys, values):\n",
        "    row_dict = dict(zip(keys, values))\n",
        "    return Row(**row_dict)"
      ]
    },
    {
      "cell_type": "markdown",
      "metadata": {
        "id": "b0r_c0j8cA2l"
      },
      "source": [
        "#### Convert elements to RDD objects"
      ]
    },
    {
      "cell_type": "code",
      "execution_count": 14,
      "metadata": {
        "id": "PrQcUPplcA2l",
        "outputId": "a79a5a78-182a-41bd-d10c-2e67853070ac",
        "colab": {
          "base_uri": "https://localhost:8080/"
        }
      },
      "outputs": [
        {
          "output_type": "execute_result",
          "data": {
            "text/plain": [
              "[Row(model='Mazda RX4', mpg='21', cyl='6', disp='160', hp='110', drat='3.9', wt='2.62', qsec='16.46', vs='0', am='1', gear='4', carb='4'),\n",
              " Row(model='Mazda RX4 Wag', mpg='21', cyl='6', disp='160', hp='110', drat='3.9', wt='2.875', qsec='17.02', vs='0', am='1', gear='4', carb='4'),\n",
              " Row(model='Datsun 710', mpg='22.8', cyl='4', disp='108', hp='93', drat='3.85', wt='2.32', qsec='18.61', vs='1', am='1', gear='4', carb='1')]"
            ]
          },
          "metadata": {},
          "execution_count": 14
        }
      ],
      "source": [
        "rdd_rows = rdd.map(lambda x: list_to_row(header, x))\n",
        "rdd_rows.take(3)"
      ]
    },
    {
      "cell_type": "markdown",
      "metadata": {
        "id": "zSd9waBScA2l"
      },
      "source": [
        "Now we can convert the RDD to a DataFrame."
      ]
    },
    {
      "cell_type": "code",
      "execution_count": 15,
      "metadata": {
        "id": "VqIRZV-KcA2l",
        "outputId": "faa4fe96-401f-4b4c-d042-11a9127101fd",
        "colab": {
          "base_uri": "https://localhost:8080/"
        }
      },
      "outputs": [
        {
          "output_type": "stream",
          "name": "stdout",
          "text": [
            "+-----------------+----+---+----+---+----+-----+-----+---+---+----+----+\n",
            "|            model| mpg|cyl|disp| hp|drat|   wt| qsec| vs| am|gear|carb|\n",
            "+-----------------+----+---+----+---+----+-----+-----+---+---+----+----+\n",
            "|        Mazda RX4|  21|  6| 160|110| 3.9| 2.62|16.46|  0|  1|   4|   4|\n",
            "|    Mazda RX4 Wag|  21|  6| 160|110| 3.9|2.875|17.02|  0|  1|   4|   4|\n",
            "|       Datsun 710|22.8|  4| 108| 93|3.85| 2.32|18.61|  1|  1|   4|   1|\n",
            "|   Hornet 4 Drive|21.4|  6| 258|110|3.08|3.215|19.44|  1|  0|   3|   1|\n",
            "|Hornet Sportabout|18.7|  8| 360|175|3.15| 3.44|17.02|  0|  0|   3|   2|\n",
            "+-----------------+----+---+----+---+----+-----+-----+---+---+----+----+\n",
            "only showing top 5 rows\n",
            "\n"
          ]
        }
      ],
      "source": [
        "df = spark.createDataFrame(rdd_rows)\n",
        "df.show(5)"
      ]
    }
  ],
  "metadata": {
    "kernelspec": {
      "display_name": "Python 3",
      "language": "python",
      "name": "python3"
    },
    "language_info": {
      "codemirror_mode": {
        "name": "ipython",
        "version": 3
      },
      "file_extension": ".py",
      "mimetype": "text/x-python",
      "name": "python",
      "nbconvert_exporter": "python",
      "pygments_lexer": "ipython3",
      "version": "3.6.5"
    },
    "colab": {
      "name": "1.3-conversion-between-rdd-and-dataframe.ipynb",
      "provenance": [],
      "include_colab_link": true
    }
  },
  "nbformat": 4,
  "nbformat_minor": 0
}